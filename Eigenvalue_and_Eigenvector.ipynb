{
  "nbformat": 4,
  "nbformat_minor": 0,
  "metadata": {
    "colab": {
      "name": "Eigenvalue and Eigenvector.ipynb",
      "provenance": [],
      "authorship_tag": "ABX9TyMvQEGk+zP9XxyAk3N+GMJp",
      "include_colab_link": true
    },
    "kernelspec": {
      "name": "python3",
      "display_name": "Python 3"
    },
    "language_info": {
      "name": "python"
    }
  },
  "cells": [
    {
      "cell_type": "markdown",
      "metadata": {
        "id": "view-in-github",
        "colab_type": "text"
      },
      "source": [
        "<a href=\"https://colab.research.google.com/github/seannebue/Linear-Algebra-58019/blob/main/Eigenvalue_and_Eigenvector.ipynb\" target=\"_parent\"><img src=\"https://colab.research.google.com/assets/colab-badge.svg\" alt=\"Open In Colab\"/></a>"
      ]
    },
    {
      "cell_type": "code",
      "execution_count": 1,
      "metadata": {
        "id": "jGpvOBl6kZOb"
      },
      "outputs": [],
      "source": [
        "import numpy as np  #Import Library\n",
        "\n",
        "from numpy.linalg import eig"
      ]
    },
    {
      "cell_type": "code",
      "source": [
        "A = np.array([[-12, 3],[4, 1]]) #matrix A\n",
        "print(f'Matrix A:\\n {A}') #print matrix A\n",
        "\n",
        "inv_A = np.linalg.inv(A)  #inverse of matrix A\n",
        "print(f'\\nInverse of Matrix A:\\n{inv_A}') #print inverse of matrix A\n",
        "\n",
        "B = np.array([[0],[0]]) #matrix B\n",
        "print(f'\\nMatrix B:\\n {B}') #print matrix B\n",
        "\n",
        "X = np.dot(inv_A, B) #dot product of inverse matrix A and matrix B\n",
        "print(f'\\nDot product:\\n{X}') #print dot product - wrong"
      ],
      "metadata": {
        "colab": {
          "base_uri": "https://localhost:8080/"
        },
        "id": "SGPSDyxykdvD",
        "outputId": "31dd3bba-5f19-41e6-fa51-a8b49daf04af"
      },
      "execution_count": 2,
      "outputs": [
        {
          "output_type": "stream",
          "name": "stdout",
          "text": [
            "Matrix A:\n",
            " [[-12   3]\n",
            " [  4   1]]\n",
            "\n",
            "Inverse of Matrix A:\n",
            "[[-0.04166667  0.125     ]\n",
            " [ 0.16666667  0.5       ]]\n",
            "\n",
            "Matrix B:\n",
            " [[0]\n",
            " [0]]\n",
            "\n",
            "Dot product:\n",
            "[[0.]\n",
            " [0.]]\n"
          ]
        }
      ]
    },
    {
      "cell_type": "markdown",
      "source": [
        "Example 2"
      ],
      "metadata": {
        "id": "D5RGV7NokiPG"
      }
    },
    {
      "cell_type": "code",
      "source": [
        "A = np.array([[-6,3],[4,5]]) #matrix\n",
        "print(f'Matrix A:\\n{A}') #print/display\n",
        "\n",
        "w,v = np.linalg.eig(A) # use the eig method in order to get the eigenvalue and eigenvector of a square matrix A\n",
        "\n",
        "#print/display the eigenvalues and eigenvectors\n",
        "print(f'The eigenvalue/s is/are:\\n {w}')\n",
        "print(f'The right eigenvectors are:\\n {v}')"
      ],
      "metadata": {
        "colab": {
          "base_uri": "https://localhost:8080/"
        },
        "id": "4xAtTmATktjr",
        "outputId": "069f1b9a-8121-4f1d-9b5c-941915fb41ae"
      },
      "execution_count": 3,
      "outputs": [
        {
          "output_type": "stream",
          "name": "stdout",
          "text": [
            "Matrix A:\n",
            "[[-6  3]\n",
            " [ 4  5]]\n",
            "The eigenvalue/s is/are:\n",
            " [-7.  6.]\n",
            "The right eigenvectors are:\n",
            " [[-0.9486833  -0.24253563]\n",
            " [ 0.31622777 -0.9701425 ]]\n"
          ]
        }
      ]
    },
    {
      "cell_type": "markdown",
      "source": [
        "Example 1"
      ],
      "metadata": {
        "id": "aDvvlwQqkjOz"
      }
    },
    {
      "cell_type": "code",
      "source": [
        "A = np.array([[2,2,4],[1,3,5],[2,3,4]]) #matrix A\n",
        "print(A) #print/display\n",
        "s,t = np.linalg.eig(A) #eig method to get the eigenvalue and eigenvector of square matrix A\n",
        "\n",
        "#print/display eigenvalues and eigenvectors\n",
        "print(f'\\nThe Eigenvalue/s is/are: {s.round()}')\n",
        "print(f'\\nThe right Eigenvectors are: \\n{t.round()}\\n')\n",
        "\n",
        "c = np.dot(A,t.round()) #dot product of A and t\n",
        "print(c) #print/display"
      ],
      "metadata": {
        "colab": {
          "base_uri": "https://localhost:8080/"
        },
        "id": "2WSNF0NlkjmJ",
        "outputId": "2fc45f0b-d932-4be9-d67f-0e9ac66c3b30"
      },
      "execution_count": 4,
      "outputs": [
        {
          "output_type": "stream",
          "name": "stdout",
          "text": [
            "[[2 2 4]\n",
            " [1 3 5]\n",
            " [2 3 4]]\n",
            "\n",
            "The Eigenvalue/s is/are: [ 9.  1. -1.]\n",
            "\n",
            "The right Eigenvectors are: \n",
            "[[-1. -1. -0.]\n",
            " [-1.  1. -1.]\n",
            " [-1. -0.  1.]]\n",
            "\n",
            "[[-8.  0.  2.]\n",
            " [-9.  2.  2.]\n",
            " [-9.  1.  1.]]\n"
          ]
        }
      ]
    }
  ]
}