{
  "nbformat": 4,
  "nbformat_minor": 0,
  "metadata": {
    "colab": {
      "name": "Phyton Exercise 2.ipynb",
      "provenance": [],
      "authorship_tag": "ABX9TyMd2s2Rrysywef0sn3SrI5/",
      "include_colab_link": true
    },
    "kernelspec": {
      "name": "python3",
      "display_name": "Python 3"
    },
    "language_info": {
      "name": "python"
    }
  },
  "cells": [
    {
      "cell_type": "markdown",
      "metadata": {
        "id": "view-in-github",
        "colab_type": "text"
      },
      "source": [
        "<a href=\"https://colab.research.google.com/github/seannebue/Linear-Algebra-58019/blob/main/Phyton_Exercise_2.ipynb\" target=\"_parent\"><img src=\"https://colab.research.google.com/assets/colab-badge.svg\" alt=\"Open In Colab\"/></a>"
      ]
    },
    {
      "cell_type": "markdown",
      "metadata": {
        "id": "cTP8scaUhMPJ"
      },
      "source": [
        "# Vector Space Operations"
      ]
    },
    {
      "cell_type": "markdown",
      "metadata": {
        "id": "EDFJBxHHhRV4"
      },
      "source": [
        "Representing Vectors"
      ]
    },
    {
      "cell_type": "code",
      "metadata": {
        "id": "fNLApvqxj8Lf",
        "colab": {
          "base_uri": "https://localhost:8080/"
        },
        "outputId": "a48b86f2-7e87-45d3-8318-130951a257d8"
      },
      "source": [
        "import numpy as np\n",
        "A = np.array([4,3])\n",
        "B = np.array([2,-5])\n",
        "print('Vector A is',A)\n",
        "print('Vector B is',B)"
      ],
      "execution_count": 1,
      "outputs": [
        {
          "output_type": "stream",
          "name": "stdout",
          "text": [
            "Vector A is [4 3]\n",
            "Vector B is [ 2 -5]\n"
          ]
        }
      ]
    },
    {
      "cell_type": "markdown",
      "metadata": {
        "id": "cf8zziNair2L"
      },
      "source": [
        "Describing Vectors in Numpy"
      ]
    },
    {
      "cell_type": "code",
      "metadata": {
        "colab": {
          "base_uri": "https://localhost:8080/"
        },
        "id": "tCu2HjI_izV8",
        "outputId": "a96a41a4-6b6f-46d7-a399-e1a150122b90"
      },
      "source": [
        "import numpy as np\n",
        "ball1 = np.array([1,2,3])\n",
        "ball2 = np.array([0,1,-1])\n",
        "pool = np.array([ball1,ball2])\n",
        "pool.shape\n",
        "pool.ndim"
      ],
      "execution_count": 2,
      "outputs": [
        {
          "output_type": "execute_result",
          "data": {
            "text/plain": [
              "2"
            ]
          },
          "metadata": {},
          "execution_count": 2
        }
      ]
    },
    {
      "cell_type": "code",
      "metadata": {
        "colab": {
          "base_uri": "https://localhost:8080/"
        },
        "id": "VS6Mxvpji_xF",
        "outputId": "77006338-a829-4dd6-956c-0c2db7e2e8f8"
      },
      "source": [
        "U = np.array([[1,2,3],[4,5,6,]])\n",
        "U\n",
        "U.size"
      ],
      "execution_count": 3,
      "outputs": [
        {
          "output_type": "execute_result",
          "data": {
            "text/plain": [
              "6"
            ]
          },
          "metadata": {},
          "execution_count": 3
        }
      ]
    },
    {
      "cell_type": "markdown",
      "metadata": {
        "id": "HR7qyLOjjENf"
      },
      "source": [
        "# Space"
      ]
    },
    {
      "cell_type": "markdown",
      "metadata": {
        "id": "ZZPdfVIzkLNl"
      },
      "source": [
        "**Vector spaces are mathematical objects that abstractly capture the geometry and algebra of linear eqautions.**"
      ]
    },
    {
      "cell_type": "markdown",
      "metadata": {
        "id": "KeRZJtrhkTbs"
      },
      "source": [
        "Additon of Vectors"
      ]
    },
    {
      "cell_type": "code",
      "metadata": {
        "colab": {
          "base_uri": "https://localhost:8080/"
        },
        "id": "MLU6M0JUjJUu",
        "outputId": "e4a2eec0-4b4e-47e6-d56d-08d84472ba27"
      },
      "source": [
        "addend1 = np.array([0,0,0])\n",
        "addend2 = np.array([1,1,0])\n",
        "sum = addend1 + addend2\n",
        "sum"
      ],
      "execution_count": 4,
      "outputs": [
        {
          "output_type": "execute_result",
          "data": {
            "text/plain": [
              "array([1, 1, 0])"
            ]
          },
          "metadata": {},
          "execution_count": 4
        }
      ]
    },
    {
      "cell_type": "code",
      "metadata": {
        "colab": {
          "base_uri": "https://localhost:8080/"
        },
        "id": "jrm4RS6zkhUd",
        "outputId": "176195df-6fde-4829-d984-b8044a72b3f7"
      },
      "source": [
        "addend1 = np.array([0,0,0])\n",
        "addend2 = np.array([1,1,0])\n",
        "resultant = np.add(addend1,addend2)\n",
        "resultant"
      ],
      "execution_count": 5,
      "outputs": [
        {
          "output_type": "execute_result",
          "data": {
            "text/plain": [
              "array([1, 1, 0])"
            ]
          },
          "metadata": {},
          "execution_count": 5
        }
      ]
    },
    {
      "cell_type": "markdown",
      "metadata": {
        "id": "TwlMryT0knXI"
      },
      "source": [
        "Subtraction of Vector"
      ]
    },
    {
      "cell_type": "code",
      "metadata": {
        "colab": {
          "base_uri": "https://localhost:8080/"
        },
        "id": "DK2cD-ZUkpME",
        "outputId": "b0d17602-93f9-432c-d651-a33aee574a7b"
      },
      "source": [
        "#You will subtract the components of adden2 from adden1:adden1-adden2\n",
        "difference = addend1-addend2\n",
        "difference"
      ],
      "execution_count": 6,
      "outputs": [
        {
          "output_type": "execute_result",
          "data": {
            "text/plain": [
              "array([-1, -1,  0])"
            ]
          },
          "metadata": {},
          "execution_count": 6
        }
      ]
    },
    {
      "cell_type": "code",
      "metadata": {
        "colab": {
          "base_uri": "https://localhost:8080/"
        },
        "id": "XlvCdMjDktqI",
        "outputId": "8e242c74-f047-47b5-b5d5-b983368e4b38"
      },
      "source": [
        "difference2 = np.subtract(addend1,addend2)\n",
        "difference2"
      ],
      "execution_count": 7,
      "outputs": [
        {
          "output_type": "execute_result",
          "data": {
            "text/plain": [
              "array([-1, -1,  0])"
            ]
          },
          "metadata": {},
          "execution_count": 7
        }
      ]
    },
    {
      "cell_type": "markdown",
      "metadata": {
        "id": "5Y--wmlrk1PV"
      },
      "source": [
        "Scalling"
      ]
    },
    {
      "cell_type": "code",
      "metadata": {
        "colab": {
          "base_uri": "https://localhost:8080/"
        },
        "id": "5UmWcg-pk3SI",
        "outputId": "1058002a-e334-442a-c0ca-c41999f79945"
      },
      "source": [
        "A = np.array([1,5,8,9])\n",
        "S = 5*A\n",
        "S"
      ],
      "execution_count": 8,
      "outputs": [
        {
          "output_type": "execute_result",
          "data": {
            "text/plain": [
              "array([ 5, 25, 40, 45])"
            ]
          },
          "metadata": {},
          "execution_count": 8
        }
      ]
    },
    {
      "cell_type": "markdown",
      "metadata": {
        "id": "fVWnRHmLk8kT"
      },
      "source": [
        "Cross Product"
      ]
    },
    {
      "cell_type": "code",
      "metadata": {
        "colab": {
          "base_uri": "https://localhost:8080/"
        },
        "id": "5NgrbkwolBMn",
        "outputId": "c776e46b-2703-4684-e8b8-b620e4085a83"
      },
      "source": [
        "import numpy as np\n",
        "A = np.array([2,3,4])\n",
        "B = np.array([1,7,1])\n",
        "output = np.cross(A,B)\n",
        "print (output)"
      ],
      "execution_count": 9,
      "outputs": [
        {
          "output_type": "stream",
          "name": "stdout",
          "text": [
            "[-25   2  11]\n"
          ]
        }
      ]
    },
    {
      "cell_type": "code",
      "metadata": {
        "colab": {
          "base_uri": "https://localhost:8080/"
        },
        "id": "MmgK7a7FlBfn",
        "outputId": "a8c40ccc-8544-4a95-e29b-b8d6e8a91293"
      },
      "source": [
        "import numpy as np\n",
        "A = np.array([2,3])\n",
        "B = np.array([1,7])\n",
        "dot = np.dot(A,B)\n",
        "print(dot)"
      ],
      "execution_count": 10,
      "outputs": [
        {
          "output_type": "stream",
          "name": "stdout",
          "text": [
            "23\n"
          ]
        }
      ]
    }
  ]
}