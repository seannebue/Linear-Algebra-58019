{
  "nbformat": 4,
  "nbformat_minor": 0,
  "metadata": {
    "colab": {
      "name": "Final Exam.ipynb",
      "provenance": [],
      "authorship_tag": "ABX9TyMvWk1ZoFDYx80sQmeWGa+E",
      "include_colab_link": true
    },
    "kernelspec": {
      "name": "python3",
      "display_name": "Python 3"
    },
    "language_info": {
      "name": "python"
    }
  },
  "cells": [
    {
      "cell_type": "markdown",
      "metadata": {
        "id": "view-in-github",
        "colab_type": "text"
      },
      "source": [
        "<a href=\"https://colab.research.google.com/github/seannebue/Linear-Algebra-58019/blob/main/Final_Exam.ipynb\" target=\"_parent\"><img src=\"https://colab.research.google.com/assets/colab-badge.svg\" alt=\"Open In Colab\"/></a>"
      ]
    },
    {
      "cell_type": "markdown",
      "source": [
        "Problem 1"
      ],
      "metadata": {
        "id": "7Pgzjl21LlIG"
      }
    },
    {
      "cell_type": "code",
      "source": [
        "eq1 = np.array([[1,1,1],[1,0,4],[0,0,5]]) #matrix 1\n",
        "eq2 = np.array([[89],[89],[95]]) #matrix 2\n",
        "amt = np.linalg.inv(eq1).dot(eq2) #compute using dot product\n",
        "print(amt) #print/display"
      ],
      "metadata": {
        "colab": {
          "base_uri": "https://localhost:8080/"
        },
        "id": "mR0pc-RXLk6U",
        "outputId": "abf8555c-8666-419f-b76f-7f7b4cf28d87"
      },
      "execution_count": 15,
      "outputs": [
        {
          "output_type": "stream",
          "name": "stdout",
          "text": [
            "[[13.]\n",
            " [57.]\n",
            " [19.]]\n"
          ]
        }
      ]
    },
    {
      "cell_type": "markdown",
      "source": [
        "Problem 2"
      ],
      "metadata": {
        "id": "A8N-2OVpLkhN"
      }
    },
    {
      "cell_type": "code",
      "source": [
        "import numpy as np \n",
        "\n",
        "A = np.array([[3,-1,1],[9,-3,3],[-12,4,-4]]) #matrix A\n",
        "print(A)\n",
        "print()\n",
        "\n",
        "B = np.array([[5],[15],[-20]]) #matrix B\n",
        "print(B)\n",
        "print()\n",
        "\n",
        "#inverse of A\n",
        "#if np.linalg.inv is used, an error message will show up saying it is a singular matrix whose determinant is 0\n",
        "#any 0 determinant cannot be solved due because its irreversible \n",
        "Apinv = np.linalg.pinv(A) #compute inverse of A\n",
        "\n",
        "x = Apinv.dot(B) #dot product method\n",
        "print(x)"
      ],
      "metadata": {
        "colab": {
          "base_uri": "https://localhost:8080/"
        },
        "id": "NdVtZo3kLkMZ",
        "outputId": "6320dc3d-e750-41aa-e5cc-188fff0cb4b9"
      },
      "execution_count": 17,
      "outputs": [
        {
          "output_type": "stream",
          "name": "stdout",
          "text": [
            "[[  3  -1   1]\n",
            " [  9  -3   3]\n",
            " [-12   4  -4]]\n",
            "\n",
            "[[  5]\n",
            " [ 15]\n",
            " [-20]]\n",
            "\n",
            "[[ 1.36363636]\n",
            " [-0.45454545]\n",
            " [ 0.45454545]]\n"
          ]
        }
      ]
    },
    {
      "cell_type": "markdown",
      "source": [
        "Problem 3"
      ],
      "metadata": {
        "id": "dhQ1lsxhJvsJ"
      }
    },
    {
      "cell_type": "code",
      "execution_count": 3,
      "metadata": {
        "colab": {
          "base_uri": "https://localhost:8080/"
        },
        "id": "XwQrfBJfJiFg",
        "outputId": "4219c946-61b1-49fb-9e91-e79b164bd9cd"
      },
      "outputs": [
        {
          "output_type": "stream",
          "name": "stdout",
          "text": [
            "[[  8   5  -6]\n",
            " [-12  -9  12]\n",
            " [ -3  -3   5]] \n",
            "\n",
            "Eigenvalues are \n",
            "  [-1.  3.  2.]\n",
            "Eigenvectors are \n",
            "  [[ 0. -1.  1.]\n",
            " [-1.  1.  0.]\n",
            " [-0. -0.  1.]]\n"
          ]
        }
      ],
      "source": [
        "import numpy as np\n",
        "from numpy.linalg import eig\n",
        "\n",
        "A = np.array([[8,5,-6],[-12,-9,12],[-3,-3,5]])\n",
        "print(A,\"\\n\")\n",
        "w,v = np.linalg.eig(A)\n",
        "\n",
        "print(\"Eigenvalues are \\n \",w)\n",
        "print(\"Eigenvectors are \\n \",v.round())"
      ]
    }
  ]
}