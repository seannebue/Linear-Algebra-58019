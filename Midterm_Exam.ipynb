{
  "nbformat": 4,
  "nbformat_minor": 0,
  "metadata": {
    "colab": {
      "name": "Midterm Exam.ipynb",
      "provenance": [],
      "authorship_tag": "ABX9TyNjOsXHy/kcORL2L0eaTZcU",
      "include_colab_link": true
    },
    "kernelspec": {
      "name": "python3",
      "display_name": "Python 3"
    },
    "language_info": {
      "name": "python"
    }
  },
  "cells": [
    {
      "cell_type": "markdown",
      "metadata": {
        "id": "view-in-github",
        "colab_type": "text"
      },
      "source": [
        "<a href=\"https://colab.research.google.com/github/seannebue/Linear-Algebra-58019/blob/main/Midterm_Exam.ipynb\" target=\"_parent\"><img src=\"https://colab.research.google.com/assets/colab-badge.svg\" alt=\"Open In Colab\"/></a>"
      ]
    },
    {
      "cell_type": "markdown",
      "metadata": {
        "id": "etns_BnF8uEK"
      },
      "source": [
        "**Question 1. Create a Python code that displays a square matrix whose length is 5 (10 points)**"
      ]
    },
    {
      "cell_type": "code",
      "metadata": {
        "colab": {
          "base_uri": "https://localhost:8080/"
        },
        "id": "xr8WgDKP8hsP",
        "outputId": "8df46601-9aed-4b10-bc66-d2c6e2d58c45"
      },
      "source": [
        "import numpy as np \n",
        "\n",
        "SquareMatrix = np.array ([[1,2,3,4,5],[2,0,0,0,0],[3,0,0,0,0],[4,0,0,0,0],[5,0,0,0,0]]) #5x5 matrix\n",
        "\n",
        "print(\"This is an example of square matrix whose length is 5\") \n",
        "print() \n",
        "print(SquareMatrix) #final answer"
      ],
      "execution_count": 8,
      "outputs": [
        {
          "output_type": "stream",
          "name": "stdout",
          "text": [
            "This is an example of square matrix whose length is 5\n",
            "\n",
            "[[1 2 3 4 5]\n",
            " [2 0 0 0 0]\n",
            " [3 0 0 0 0]\n",
            " [4 0 0 0 0]\n",
            " [5 0 0 0 0]]\n"
          ]
        }
      ]
    },
    {
      "cell_type": "markdown",
      "metadata": {
        "id": "lnr7gysW8yRS"
      },
      "source": [
        "**Question 2. Create a Python code that displays a square matrix whose elements below the principal diagonal are zero (10 points)**"
      ]
    },
    {
      "cell_type": "code",
      "metadata": {
        "colab": {
          "base_uri": "https://localhost:8080/"
        },
        "id": "57jaCe4t8y6v",
        "outputId": "808963e0-faee-4299-a9fc-c8087aeda031"
      },
      "source": [
        "C = np.triu([[10,20,30,40,50], [60,70,80,90,100],[110,120,130,140,150],[160,170,180,190,200],[210,220,230,240,250]])\n",
        "\n",
        "print(C)"
      ],
      "execution_count": 19,
      "outputs": [
        {
          "output_type": "stream",
          "name": "stdout",
          "text": [
            "[[ 10  20  30  40  50]\n",
            " [  0  70  80  90 100]\n",
            " [  0   0 130 140 150]\n",
            " [  0   0   0 190 200]\n",
            " [  0   0   0   0 250]]\n"
          ]
        }
      ]
    },
    {
      "cell_type": "markdown",
      "metadata": {
        "id": "1KPysqxN8zZi"
      },
      "source": [
        "**Question 3. Create a Python code that displays a square matrix which is symmetrical (10 points)**"
      ]
    },
    {
      "cell_type": "code",
      "metadata": {
        "colab": {
          "base_uri": "https://localhost:8080/"
        },
        "id": "J3T0wUNE8z6M",
        "outputId": "8c9742a7-0abf-4656-e7c5-0adc930e9650"
      },
      "source": [
        "a = np.array([[1,2,3], [4,5,6], [7,8,9,]])\n",
        "print(a)\n",
        "\n",
        "b = np.transpose(a)\n",
        "print()\n",
        "print(b)\n",
        "\n",
        "c = np.matmul(a,b)\n",
        "print()\n",
        "print(c)"
      ],
      "execution_count": 22,
      "outputs": [
        {
          "output_type": "stream",
          "name": "stdout",
          "text": [
            "[[1 2 3]\n",
            " [4 5 6]\n",
            " [7 8 9]]\n",
            "\n",
            "[[1 4 7]\n",
            " [2 5 8]\n",
            " [3 6 9]]\n",
            "\n",
            "[[ 14  32  50]\n",
            " [ 32  77 122]\n",
            " [ 50 122 194]]\n"
          ]
        }
      ]
    },
    {
      "cell_type": "markdown",
      "metadata": {
        "id": "GGtG4-lk88QK"
      },
      "source": [
        "**Question 4. What is the inverse of matrix C? Show your solution by python coding. (20 points)**"
      ]
    },
    {
      "cell_type": "code",
      "metadata": {
        "colab": {
          "base_uri": "https://localhost:8080/"
        },
        "id": "MNbPsKKzA4YR",
        "outputId": "015b59ba-6f55-404e-b9f6-ddb6884d8aeb"
      },
      "source": [
        "C = np.array ([[1,2,3],\n",
        "               [2,3,3],\n",
        "               [3,4,-2]])\n",
        "print(C)\n",
        "print()\n",
        "\n",
        "invC = np.linalg.inv(C)\n",
        "print(\"Inverse of Matrix C:\")\n",
        "print()\n",
        "print(invC)"
      ],
      "execution_count": 21,
      "outputs": [
        {
          "output_type": "stream",
          "name": "stdout",
          "text": [
            "[[ 1  2  3]\n",
            " [ 2  3  3]\n",
            " [ 3  4 -2]]\n",
            "\n",
            "Inverse of Matrix C:\n",
            "\n",
            "[[-3.6  3.2 -0.6]\n",
            " [ 2.6 -2.2  0.6]\n",
            " [-0.2  0.4 -0.2]]\n"
          ]
        }
      ]
    },
    {
      "cell_type": "markdown",
      "metadata": {
        "id": "HQmARnnkEI_X"
      },
      "source": [
        "**Question 5. What is the determinant of the given matrix in Question 4? Show your solution by python coding. (20 points)**"
      ]
    },
    {
      "cell_type": "code",
      "metadata": {
        "colab": {
          "base_uri": "https://localhost:8080/"
        },
        "id": "CPkmpHk5A6ex",
        "outputId": "c6551c08-812e-4251-acae-bed190766430"
      },
      "source": [
        "C = np.array ([[1,2,3],\n",
        "               [2,3,3],\n",
        "               [3,4,-2]])\n",
        "\n",
        "detOfC = np.linalg.det(C)\n",
        "\n",
        "print(\"Determinant of the given matrix in Question 4:\")\n",
        "print()\n",
        "print(int(detOfC))"
      ],
      "execution_count": 12,
      "outputs": [
        {
          "output_type": "stream",
          "name": "stdout",
          "text": [
            "Determinant of the given matrix in Question 4:\n",
            "\n",
            "5\n"
          ]
        }
      ]
    },
    {
      "cell_type": "markdown",
      "metadata": {
        "id": "lEiKUVVg9D3B"
      },
      "source": [
        "**Question 6. Find the roots of the linear equations by showing its python codes (30 points)**"
      ]
    },
    {
      "cell_type": "code",
      "metadata": {
        "colab": {
          "base_uri": "https://localhost:8080/"
        },
        "id": "CepnskL6A-k2",
        "outputId": "136c3f7d-4da2-41ec-cbf9-2ff963ea50db"
      },
      "source": [
        "import numpy as np\n",
        "A = np.array([[5,4,1],[10,9,4],[10,13,15]]) #matrix A\n",
        "\n",
        "print(A)\n",
        "print()\n",
        "\n",
        "inv_A = np.linalg.inv(A)\n",
        "print(inv_A)\n",
        "print()\n",
        "\n",
        "B = np.array([[3.4],[8.8],[19.2]]) #matrix B\n",
        "\n",
        "print(B)\n",
        "print()\n",
        "print(\"The roots of the given linear equations are\" )\n",
        "print()\n",
        "\n",
        "X = np.dot(inv_A, B)\n",
        "print(X)"
      ],
      "execution_count": 16,
      "outputs": [
        {
          "output_type": "stream",
          "name": "stdout",
          "text": [
            "[[ 5  4  1]\n",
            " [10  9  4]\n",
            " [10 13 15]]\n",
            "\n",
            "[[ 5.53333333 -3.13333333  0.46666667]\n",
            " [-7.33333333  4.33333333 -0.66666667]\n",
            " [ 2.66666667 -1.66666667  0.33333333]]\n",
            "\n",
            "[[ 3.4]\n",
            " [ 8.8]\n",
            " [19.2]]\n",
            "\n",
            "The roots of the given linear equations are\n",
            "\n",
            "[[0.2]\n",
            " [0.4]\n",
            " [0.8]]\n"
          ]
        }
      ]
    }
  ]
}