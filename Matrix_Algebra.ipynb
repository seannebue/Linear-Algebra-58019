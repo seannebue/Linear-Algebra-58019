{
  "nbformat": 4,
  "nbformat_minor": 0,
  "metadata": {
    "colab": {
      "name": "Matrix Algebra.ipynb",
      "provenance": [],
      "authorship_tag": "ABX9TyMXGy9+JyraKyR6xeU3jfgW",
      "include_colab_link": true
    },
    "kernelspec": {
      "name": "python3",
      "display_name": "Python 3"
    },
    "language_info": {
      "name": "python"
    }
  },
  "cells": [
    {
      "cell_type": "markdown",
      "metadata": {
        "id": "view-in-github",
        "colab_type": "text"
      },
      "source": [
        "<a href=\"https://colab.research.google.com/github/seannebue/Linear-Algebra-58019/blob/main/Matrix_Algebra.ipynb\" target=\"_parent\"><img src=\"https://colab.research.google.com/assets/colab-badge.svg\" alt=\"Open In Colab\"/></a>"
      ]
    },
    {
      "cell_type": "markdown",
      "metadata": {
        "id": "_oqKvk0XAfrA"
      },
      "source": [
        "Python program to inverse \n"
      ]
    },
    {
      "cell_type": "code",
      "metadata": {
        "colab": {
          "base_uri": "https://localhost:8080/"
        },
        "id": "wicnTaGlAIbn",
        "outputId": "c41d041e-ec41-407f-fc87-161ffa963c4a"
      },
      "source": [
        "import numpy as np\n",
        "\n",
        "A = np.array([[1,2,],[4,7]])\n",
        "invA = (np.linalg.inv(A))\n",
        "print(invA)"
      ],
      "execution_count": 1,
      "outputs": [
        {
          "output_type": "stream",
          "name": "stdout",
          "text": [
            "[[-7.  2.]\n",
            " [ 4. -1.]]\n"
          ]
        }
      ]
    },
    {
      "cell_type": "code",
      "metadata": {
        "colab": {
          "base_uri": "https://localhost:8080/"
        },
        "id": "l3eqYLcyAkJy",
        "outputId": "84f991ba-f29c-4864-804a-f6db817f2154"
      },
      "source": [
        "C = np.dot(A,invA)\n",
        "print(C)"
      ],
      "execution_count": 2,
      "outputs": [
        {
          "output_type": "stream",
          "name": "stdout",
          "text": [
            "[[1. 0.]\n",
            " [0. 1.]]\n"
          ]
        }
      ]
    },
    {
      "cell_type": "code",
      "metadata": {
        "colab": {
          "base_uri": "https://localhost:8080/"
        },
        "id": "vUsDMwBHAn8O",
        "outputId": "24e0e1ab-0d0b-430f-9d87-bea28b569600"
      },
      "source": [
        "#Python Program to Inverse a 3x3 Matrix A = ([6,1,1],[4,-2,5],[2,8,7])\n",
        "A = np.array([[6,1,1],[4,-2,5],[2,8,7]])\n",
        "print(A,\"\\n\")\n",
        "\n",
        "B = np.transpose(A)\n",
        "print(B)"
      ],
      "execution_count": 3,
      "outputs": [
        {
          "output_type": "stream",
          "name": "stdout",
          "text": [
            "[[ 6  1  1]\n",
            " [ 4 -2  5]\n",
            " [ 2  8  7]] \n",
            "\n",
            "[[ 6  4  2]\n",
            " [ 1 -2  8]\n",
            " [ 1  5  7]]\n"
          ]
        }
      ]
    },
    {
      "cell_type": "code",
      "metadata": {
        "colab": {
          "base_uri": "https://localhost:8080/"
        },
        "id": "o6ewQuj9Ayoa",
        "outputId": "2b808f1e-3ce5-460e-9a69-0b5ea23d0e7d"
      },
      "source": [
        "#Python Program to Inverse a 3x3 Matrix A = ([6,1,1],[4,-2,5],[2,8,7])\n",
        "A = np.array([[6,1,1],[4,-2,5],[2,8,7]])\n",
        "print(A,\"\\n\")\n",
        "\n",
        "B = np.linalg.inv(A)\n",
        "print(B)"
      ],
      "execution_count": 4,
      "outputs": [
        {
          "output_type": "stream",
          "name": "stdout",
          "text": [
            "[[ 6  1  1]\n",
            " [ 4 -2  5]\n",
            " [ 2  8  7]] \n",
            "\n",
            "[[ 0.17647059 -0.00326797 -0.02287582]\n",
            " [ 0.05882353 -0.13071895  0.08496732]\n",
            " [-0.11764706  0.1503268   0.05228758]]\n"
          ]
        }
      ]
    },
    {
      "cell_type": "markdown",
      "metadata": {
        "id": "HC8iNU3TA605"
      },
      "source": [
        "Program Code of Product A and B\n",
        "\n",
        "\n"
      ]
    },
    {
      "cell_type": "code",
      "metadata": {
        "colab": {
          "base_uri": "https://localhost:8080/"
        },
        "id": "rLX_x6uoA3_4",
        "outputId": "8c43ed29-4798-41de-aafa-f7ed48775844"
      },
      "source": [
        "productAB= np.dot(A,B)\n",
        "print(productAB)"
      ],
      "execution_count": 5,
      "outputs": [
        {
          "output_type": "stream",
          "name": "stdout",
          "text": [
            "[[ 1.00000000e+00  0.00000000e+00  2.77555756e-17]\n",
            " [-1.38777878e-17  1.00000000e+00  1.38777878e-17]\n",
            " [-4.16333634e-17  1.38777878e-16  1.00000000e+00]]\n"
          ]
        }
      ]
    },
    {
      "cell_type": "markdown",
      "metadata": {
        "id": "eorTbNaFBfJE"
      },
      "source": [
        "##Coding Activity 3"
      ]
    },
    {
      "cell_type": "code",
      "metadata": {
        "colab": {
          "base_uri": "https://localhost:8080/"
        },
        "id": "hTvQDJHZBj-C",
        "outputId": "99b62507-57a6-45cd-dbff-16a66a9d96ce"
      },
      "source": [
        "#Create a Phyton program to inverse and transpose a 4x4 matrix, A = ([6,1,1,3],[4,-2,5,1],[2,8,7,6],[3,1,9,7])\n",
        "A = np.array([[6,1,1,3],[4,-2,5,1],[2,8,7,6],[3,1,9,7]])\n",
        "fxf = (np.linalg.inv(A))\n",
        "print(fxf)"
      ],
      "execution_count": 6,
      "outputs": [
        {
          "output_type": "stream",
          "name": "stdout",
          "text": [
            "[[ 0.13368984  0.10695187  0.02139037 -0.09090909]\n",
            " [-0.00229183  0.02673797  0.14820474 -0.12987013]\n",
            " [-0.12987013  0.18181818  0.06493506 -0.02597403]\n",
            " [ 0.11000764 -0.28342246 -0.11382735  0.23376623]]\n"
          ]
        }
      ]
    }
  ]
}