{
  "nbformat": 4,
  "nbformat_minor": 0,
  "metadata": {
    "colab": {
      "name": "Phyton Exercise 1",
      "provenance": [],
      "authorship_tag": "ABX9TyNLaSH1FHbrCowbBxPbPOtV",
      "include_colab_link": true
    },
    "kernelspec": {
      "name": "python3",
      "display_name": "Python 3"
    },
    "language_info": {
      "name": "python"
    }
  },
  "cells": [
    {
      "cell_type": "markdown",
      "metadata": {
        "id": "view-in-github",
        "colab_type": "text"
      },
      "source": [
        "<a href=\"https://colab.research.google.com/github/seannebue/Linear-Algebra-58019/blob/main/Phyton_Exercise_1.ipynb\" target=\"_parent\"><img src=\"https://colab.research.google.com/assets/colab-badge.svg\" alt=\"Open In Colab\"/></a>"
      ]
    },
    {
      "cell_type": "markdown",
      "metadata": {
        "id": "4lZgo1Ph_u_A"
      },
      "source": [
        "Matrix and its Operations"
      ]
    },
    {
      "cell_type": "code",
      "metadata": {
        "colab": {
          "base_uri": "https://localhost:8080/"
        },
        "id": "76z4EULc_86F",
        "outputId": "3c3988ce-75df-4b12-bd63-3e15ed3618bb"
      },
      "source": [
        "import numpy as np\n",
        "a = np.array (([-5,0,],[4,1]))\n",
        "b = np.array (([6,-3],[2,3]))\n",
        "\n",
        "print(\"a+b\")\n",
        "print(a+b)\n",
        "print()\n",
        "print(\"b-a\")\n",
        "print(b-a)\n",
        "print()\n",
        "print(\"a-b\")\n",
        "print(a-b)"
      ],
      "execution_count": 3,
      "outputs": [
        {
          "output_type": "stream",
          "name": "stdout",
          "text": [
            "a+b\n",
            "[[ 1 -3]\n",
            " [ 6  4]]\n",
            "\n",
            "b-a\n",
            "[[11 -3]\n",
            " [-2  2]]\n",
            "\n",
            "a-b\n",
            "[[-11   3]\n",
            " [  2  -2]]\n"
          ]
        }
      ]
    }
  ]
}