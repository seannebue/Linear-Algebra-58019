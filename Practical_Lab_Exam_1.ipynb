{
  "nbformat": 4,
  "nbformat_minor": 0,
  "metadata": {
    "colab": {
      "name": "Practical Lab Exam 1.ipynb",
      "provenance": [],
      "authorship_tag": "ABX9TyOEGtLR5mdvxSprPeL+QFVx",
      "include_colab_link": true
    },
    "kernelspec": {
      "name": "python3",
      "display_name": "Python 3"
    },
    "language_info": {
      "name": "python"
    }
  },
  "cells": [
    {
      "cell_type": "markdown",
      "metadata": {
        "id": "view-in-github",
        "colab_type": "text"
      },
      "source": [
        "<a href=\"https://colab.research.google.com/github/seannebue/Linear-Algebra-58019/blob/main/Practical_Lab_Exam_1.ipynb\" target=\"_parent\"><img src=\"https://colab.research.google.com/assets/colab-badge.svg\" alt=\"Open In Colab\"/></a>"
      ]
    },
    {
      "cell_type": "markdown",
      "metadata": {
        "id": "G2ecE8a24jIB"
      },
      "source": [
        "# Problem 1"
      ]
    },
    {
      "cell_type": "code",
      "metadata": {
        "colab": {
          "base_uri": "https://localhost:8080/"
        },
        "id": "uQExnQxJ0X7p",
        "outputId": "02098618-621c-45af-e336-380031f7302c"
      },
      "source": [
        "import numpy as np\n",
        "\n",
        "A = np.array ([[1,2,3],[4,5,6]])\n",
        "print(\"A =\", A)\n",
        "print()\n",
        "\n",
        "B = np.array ([[1,2],[3,3],[5,6]])\n",
        "print(\"B =\", B)\n",
        "print()\n",
        "\n",
        "C = np.array ([[1,2,3],[4,5,6],[7,8,9]])\n",
        "print(\"C =\", C)\n",
        "print()\n",
        "\n",
        "D = np.array ([[1,2],[3,4]])\n",
        "print(\"D =\", D)\n",
        "print()\n",
        "\n",
        "print(\"Examples\")\n",
        "print()\n",
        "\n",
        "dot = np.dot(A,B)\n",
        "print(\"a. AB =\", A)\n",
        "print()\n",
        "\n",
        "sum = D+D\n",
        "print(\"b. D + D =\", A)\n",
        "print()\n",
        "\n",
        "S = 2*C\n",
        "print(\"c. 2C =\", S)"
      ],
      "execution_count": 3,
      "outputs": [
        {
          "output_type": "stream",
          "name": "stdout",
          "text": [
            "A = [[1 2 3]\n",
            " [4 5 6]]\n",
            "\n",
            "B = [[1 2]\n",
            " [3 3]\n",
            " [5 6]]\n",
            "\n",
            "C = [[1 2 3]\n",
            " [4 5 6]\n",
            " [7 8 9]]\n",
            "\n",
            "D = [[1 2]\n",
            " [3 4]]\n",
            "\n",
            "Examples\n",
            "\n",
            "a. AB = [[1 2 3]\n",
            " [4 5 6]]\n",
            "\n",
            "b. D + D = [[1 2 3]\n",
            " [4 5 6]]\n",
            "\n",
            "c. 2C = [[ 2  4  6]\n",
            " [ 8 10 12]\n",
            " [14 16 18]]\n"
          ]
        }
      ]
    },
    {
      "cell_type": "markdown",
      "metadata": {
        "id": "dOClL2Ur4ppE"
      },
      "source": [
        "# Problem 2"
      ]
    },
    {
      "cell_type": "code",
      "metadata": {
        "colab": {
          "base_uri": "https://localhost:8080/"
        },
        "id": "Hei9kCOb4sWj",
        "outputId": "88a156a8-4064-4805-8212-d7b25f6bb9a2"
      },
      "source": [
        "import numpy as np\n",
        "A = np.array([5,3,-1])\n",
        "\n",
        "print(\"Size of Array:\", A.size)\n",
        "print(\"Type of Array:\", type(A))\n",
        "print(\"Shape of Array:\", A.shape)\n",
        "print(\"Dimension of Array:\", A.ndim)\n"
      ],
      "execution_count": 5,
      "outputs": [
        {
          "output_type": "stream",
          "name": "stdout",
          "text": [
            "Size of Array: 3\n",
            "Type of Array: <class 'numpy.ndarray'>\n",
            "Shape of Array: (3,)\n",
            "Dimension of Array: 1\n"
          ]
        }
      ]
    }
  ]
}